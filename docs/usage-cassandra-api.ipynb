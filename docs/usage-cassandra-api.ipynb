{
 "cells": [
  {
   "cell_type": "code",
   "execution_count": null,
   "metadata": {},
   "outputs": [],
   "source": [
    "import requests\n",
    "forecast_endpoint = 'https://cassandra-api.herokuapp.com/forecast'\n",
    "payload = {\n",
    "    \"stock\": \"META\",\n",
    "    \"start_date\": \"2022-11-06\",\n",
    "    \"end_date\": \"2022-11-09\",\n",
    "    \"interval\": \"1h\",\n",
    "    \"strategy\": \"multivariate_diff\",\n",
    "    \"n_forecast\": 12\n",
    "}\n",
    "auth = requests.auth.HTTPBasicAuth(\"demo\", \"demo_password123\")\n",
    "res = requests.post(forecast_endpoint, json=payload, auth=auth)\n",
    "print(res.status_code)\n",
    "print(res.json())"
   ]
  },
  {
   "cell_type": "code",
   "execution_count": 11,
   "metadata": {},
   "outputs": [
    {
     "name": "stdout",
     "output_type": "stream",
     "text": [
      "200\n",
      "[{'index': '2022-11-02T09:30:00-04:00', 'Open': 94.20500183105469, 'High': 95.02999877929688, 'Low': 92.83000183105469, 'Close': 93.22650146484375, 'Volume': 16316221, 'Dividends': 0, 'Stock Splits': 0}, {'index': '2022-11-02T10:30:00-04:00', 'Open': 93.2300033569336, 'High': 93.50499725341797, 'Low': 92.45040130615234, 'Close': 92.8499984741211, 'Volume': 8451153, 'Dividends': 0, 'Stock Splits': 0}, {'index': '2022-11-02T11:30:00-04:00', 'Open': 92.8499984741211, 'High': 93.26000213623047, 'Low': 92.64659881591797, 'Close': 92.93099975585938, 'Volume': 5094689, 'Dividends': 0, 'Stock Splits': 0}, {'index': '2022-11-02T12:30:00-04:00', 'Open': 92.9386978149414, 'High': 93.08000183105469, 'Low': 92.625, 'Close': 92.80699920654297, 'Volume': 4313698, 'Dividends': 0, 'Stock Splits': 0}, {'index': '2022-11-02T13:30:00-04:00', 'Open': 92.80000305175781, 'High': 94.95999908447266, 'Low': 92.52999877929688, 'Close': 94.95999908447266, 'Volume': 10084548, 'Dividends': 0, 'Stock Splits': 0}, {'index': '2022-11-02T14:30:00-04:00', 'Open': 94.95970153808594, 'High': 95.19999694824219, 'Low': 91.49009704589844, 'Close': 91.71499633789062, 'Volume': 14816890, 'Dividends': 0, 'Stock Splits': 0}, {'index': '2022-11-02T15:30:00-04:00', 'Open': 91.70999908447266, 'High': 92.01000213623047, 'Low': 90.4800033569336, 'Close': 90.5199966430664, 'Volume': 9115234, 'Dividends': 0, 'Stock Splits': 0}, {'index': '2022-11-03T09:30:00-04:00', 'Open': 90.08000183105469, 'High': 90.27999877929688, 'Low': 88.41000366210938, 'Close': 89.33999633789062, 'Volume': 17379688, 'Dividends': 0, 'Stock Splits': 0}, {'index': '2022-11-03T10:30:00-04:00', 'Open': 89.3499984741211, 'High': 90.1500015258789, 'Low': 88.72000122070312, 'Close': 89.13999938964844, 'Volume': 9222974, 'Dividends': 0, 'Stock Splits': 0}, {'index': '2022-11-03T11:30:00-04:00', 'Open': 89.13999938964844, 'High': 89.56999969482422, 'Low': 88.45999908447266, 'Close': 89.36000061035156, 'Volume': 6623816, 'Dividends': 0, 'Stock Splits': 0}, {'index': '2022-11-03T12:30:00-04:00', 'Open': 89.3499984741211, 'High': 90.45760345458984, 'Low': 89.05000305175781, 'Close': 89.37999725341797, 'Volume': 7784394, 'Dividends': 0, 'Stock Splits': 0}, {'index': '2022-11-03T13:30:00-04:00', 'Open': 89.3499984741211, 'High': 89.95999908447266, 'Low': 89.2300033569336, 'Close': 89.61650085449219, 'Volume': 4620725, 'Dividends': 0, 'Stock Splits': 0}, {'index': '2022-11-03T14:30:00-04:00', 'Open': 89.61000061035156, 'High': 89.7300033569336, 'Low': 89.2667007446289, 'Close': 89.54499816894531, 'Volume': 5217895, 'Dividends': 0, 'Stock Splits': 0}, {'index': '2022-11-03T15:30:00-04:00', 'Open': 89.54499816894531, 'High': 89.97000122070312, 'Low': 88.7750015258789, 'Close': 88.9000015258789, 'Volume': 5978194, 'Dividends': 0, 'Stock Splits': 0}, {'index': '2022-11-04T09:30:00-04:00', 'Open': 90.3499984741211, 'High': 91.38999938964844, 'Low': 88.33000183105469, 'Close': 90.1270980834961, 'Volume': 16061236, 'Dividends': 0, 'Stock Splits': 0}, {'index': '2022-11-04T10:30:00-04:00', 'Open': 89.9000015258789, 'High': 90.49500274658203, 'Low': 88.9000015258789, 'Close': 89.17739868164062, 'Volume': 6698884, 'Dividends': 0, 'Stock Splits': 0}, {'index': '2022-11-04T11:30:00-04:00', 'Open': 89.18000030517578, 'High': 89.5199966430664, 'Low': 88.08999633789062, 'Close': 89.23500061035156, 'Volume': 5927199, 'Dividends': 0, 'Stock Splits': 0}, {'index': '2022-11-04T12:30:00-04:00', 'Open': 89.23500061035156, 'High': 89.62999725341797, 'Low': 88.56999969482422, 'Close': 89.4800033569336, 'Volume': 4620485, 'Dividends': 0, 'Stock Splits': 0}, {'index': '2022-11-04T13:30:00-04:00', 'Open': 89.48780059814453, 'High': 89.78739929199219, 'Low': 88.7300033569336, 'Close': 89.75499725341797, 'Volume': 4737084, 'Dividends': 0, 'Stock Splits': 0}, {'index': '2022-11-04T14:30:00-04:00', 'Open': 89.75800323486328, 'High': 90.7300033569336, 'Low': 89.61000061035156, 'Close': 90.44999694824219, 'Volume': 6977670, 'Dividends': 0, 'Stock Splits': 0}, {'index': '2022-11-04T15:30:00-04:00', 'Open': 90.45999908447266, 'High': 90.87779998779297, 'Low': 90.27999877929688, 'Close': 90.83889770507812, 'Volume': 4814955, 'Dividends': 0, 'Stock Splits': 0}, {'index': '2022-11-07T09:30:00-05:00', 'Open': 94.77999877929688, 'High': 96.29000091552734, 'Low': 93.0999984741211, 'Close': 95.55000305175781, 'Volume': 28588597, 'Dividends': 0, 'Stock Splits': 0}, {'index': '2022-11-07T10:30:00-05:00', 'Open': 95.55999755859375, 'High': 96.87999725341797, 'Low': 95.0199966430664, 'Close': 96.41999816894531, 'Volume': 12879344, 'Dividends': 0, 'Stock Splits': 0}, {'index': '2022-11-07T11:30:00-05:00', 'Open': 96.44499969482422, 'High': 96.45500183105469, 'Low': 94.68000030517578, 'Close': 94.71499633789062, 'Volume': 9511350, 'Dividends': 0, 'Stock Splits': 0}, {'index': '2022-11-07T12:30:00-05:00', 'Open': 94.70999908447266, 'High': 95.86000061035156, 'Low': 94.30010223388672, 'Close': 95.31999969482422, 'Volume': 7540469, 'Dividends': 0, 'Stock Splits': 0}, {'index': '2022-11-07T13:30:00-05:00', 'Open': 95.31999969482422, 'High': 95.6404037475586, 'Low': 94.8499984741211, 'Close': 95.43499755859375, 'Volume': 6152579, 'Dividends': 0, 'Stock Splits': 0}, {'index': '2022-11-07T14:30:00-05:00', 'Open': 95.51409912109375, 'High': 96.30000305175781, 'Low': 95.47000122070312, 'Close': 96.2300033569336, 'Volume': 7012457, 'Dividends': 0, 'Stock Splits': 0}, {'index': '2022-11-07T15:30:00-05:00', 'Open': 96.2300033569336, 'High': 96.83999633789062, 'Low': 96.16000366210938, 'Close': 96.7300033569336, 'Volume': 6444806, 'Dividends': 0, 'Stock Splits': 0}, {'index': '2022-11-08T09:30:00-05:00', 'Open': 95.91999816894531, 'High': 97.13999938964844, 'Low': 95.01000213623047, 'Close': 95.93409729003906, 'Volume': 12234837, 'Dividends': 0, 'Stock Splits': 0}, {'index': '2022-11-08T10:30:00-05:00', 'Open': 95.95999908447266, 'High': 96.22000122070312, 'Low': 95.19000244140625, 'Close': 96.18830108642578, 'Volume': 6154723, 'Dividends': 0, 'Stock Splits': 0}, {'index': '2022-11-08T11:30:00-05:00', 'Open': 96.16169738769531, 'High': 96.94499969482422, 'Low': 95.68000030517578, 'Close': 96.93810272216797, 'Volume': 5588388, 'Dividends': 0, 'Stock Splits': 0}, {'index': '2022-11-08T12:30:00-05:00', 'Open': 96.94000244140625, 'High': 97.80000305175781, 'Low': 96.08499908447266, 'Close': 96.25, 'Volume': 7154008, 'Dividends': 0, 'Stock Splits': 0}, {'index': '2022-11-08T13:30:00-05:00', 'Open': 96.23999786376953, 'High': 96.6500015258789, 'Low': 95.05000305175781, 'Close': 95.19499969482422, 'Volume': 5714131, 'Dividends': 0, 'Stock Splits': 0}, {'index': '2022-11-08T14:30:00-05:00', 'Open': 95.18000030517578, 'High': 96.2698974609375, 'Low': 94.79000091552734, 'Close': 96.24009704589844, 'Volume': 6431597, 'Dividends': 0, 'Stock Splits': 0}, {'index': '2022-11-08T15:30:00-05:00', 'Open': 96.23999786376953, 'High': 96.9000015258789, 'Low': 96.21309661865234, 'Close': 96.4800033569336, 'Volume': 4524558, 'Dividends': 0, 'Stock Splits': 0}]\n"
     ]
    }
   ],
   "source": [
    "import requests\n",
    "forecast_endpoint = 'https://cassandra-api.herokuapp.com/history'\n",
    "payload = {\n",
    "    \"stock\": \"META\",\n",
    "    \"start_date\": \"2022-11-02\",\n",
    "    \"end_date\": \"2022-11-09\",\n",
    "    \"interval\": \"1h\",\n",
    "}\n",
    "auth = requests.auth.HTTPBasicAuth(\"demo\", \"demo_password123\")\n",
    "res = requests.get(forecast_endpoint, json=payload)\n",
    "print(res.status_code)\n",
    "print(res.json())"
   ]
  },
  {
   "cell_type": "code",
   "execution_count": null,
   "metadata": {},
   "outputs": [],
   "source": []
  }
 ],
 "metadata": {
  "kernelspec": {
   "display_name": "Python 3.8.13 ('di502')",
   "language": "python",
   "name": "python3"
  },
  "language_info": {
   "codemirror_mode": {
    "name": "ipython",
    "version": 3
   },
   "file_extension": ".py",
   "mimetype": "text/x-python",
   "name": "python",
   "nbconvert_exporter": "python",
   "pygments_lexer": "ipython3",
   "version": "3.8.13"
  },
  "orig_nbformat": 4,
  "vscode": {
   "interpreter": {
    "hash": "b416bf3e6dc7ba7af3fa2d0f4c107c077b7d962e9fcb4ede914d0f5c99edb7a5"
   }
  }
 },
 "nbformat": 4,
 "nbformat_minor": 2
}
