{
 "cells": [
  {
   "cell_type": "code",
   "execution_count": null,
   "metadata": {},
   "outputs": [],
   "source": [
    "import requests"
   ]
  },
  {
   "cell_type": "code",
   "execution_count": null,
   "metadata": {},
   "outputs": [],
   "source": [
    "forecast_endpoint = 'https://cassandra-api.herokuapp.com/forecast'\n",
    "\n",
    "payload = {\n",
    "    \"stock\": \"META\",\n",
    "    \"start_date\": \"2022-11-06\",\n",
    "    \"end_date\": \"2022-11-09\",\n",
    "    \"interval\": \"1h\",\n",
    "    \"strategy\": \"multivariate_diff\",\n",
    "    \"n_forecast\": 12\n",
    "}\n",
    "auth = requests.auth.HTTPBasicAuth(\"demo\", \"demo_password123\")\n",
    "res = requests.post(forecast_endpoint, json=payload, auth=auth)\n",
    "print(res.status_code)\n",
    "print(res.json())"
   ]
  },
  {
   "cell_type": "code",
   "execution_count": null,
   "metadata": {},
   "outputs": [],
   "source": [
    "history_endpoint = 'https://cassandra-api.herokuapp.com/history'\n",
    "\n",
    "payload = {\n",
    "    \"stock\": \"META\",\n",
    "    \"start_date\": \"2022-11-02\",\n",
    "    \"end_date\": \"2022-11-09\",\n",
    "    \"interval\": \"1h\",\n",
    "}\n",
    "auth = requests.auth.HTTPBasicAuth(\"demo\", \"demo_password123\")\n",
    "res = requests.get(history_endpoint, json=payload, auth=auth)\n",
    "print(res.status_code)\n",
    "print(res.json())"
   ]
  }
 ],
 "metadata": {
  "kernelspec": {
   "display_name": "Python 3.8.13 ('di502')",
   "language": "python",
   "name": "python3"
  },
  "language_info": {
   "codemirror_mode": {
    "name": "ipython",
    "version": 3
   },
   "file_extension": ".py",
   "mimetype": "text/x-python",
   "name": "python",
   "nbconvert_exporter": "python",
   "pygments_lexer": "ipython3",
   "version": "3.8.13 (default, Oct 19 2022, 17:54:22) \n[Clang 12.0.0 ]"
  },
  "orig_nbformat": 4,
  "vscode": {
   "interpreter": {
    "hash": "b416bf3e6dc7ba7af3fa2d0f4c107c077b7d962e9fcb4ede914d0f5c99edb7a5"
   }
  }
 },
 "nbformat": 4,
 "nbformat_minor": 2
}
